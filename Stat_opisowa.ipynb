{
  "nbformat": 4,
  "nbformat_minor": 0,
  "metadata": {
    "colab": {
      "name": "Stat_opisowa.ipynb",
      "provenance": [],
      "collapsed_sections": [],
      "toc_visible": true,
      "include_colab_link": true
    },
    "kernelspec": {
      "name": "python3",
      "display_name": "Python 3"
    }
  },
  "cells": [
    {
      "cell_type": "markdown",
      "metadata": {
        "id": "view-in-github",
        "colab_type": "text"
      },
      "source": [
        "<a href=\"https://colab.research.google.com/github/cravein/stata/blob/main/Stat_opisowa.ipynb\" target=\"_parent\"><img src=\"https://colab.research.google.com/assets/colab-badge.svg\" alt=\"Open In Colab\"/></a>"
      ]
    },
    {
      "cell_type": "markdown",
      "metadata": {
        "id": "qXrwWTZlTIds"
      },
      "source": [
        "# **Statystyka opisowa**"
      ]
    },
    {
      "cell_type": "markdown",
      "metadata": {
        "id": "Rokb4EDMTjZk"
      },
      "source": [
        "- Statystyka opisowa\r\n",
        "- Pozwala przyjrzeć się rozkładom zmiennych w danej populacji.\r\n",
        "\r\n",
        "- Podstawowe statystyki opisowe można pogrupować na miary tendencji centralnej opisujące polożenie wyników oraz miary dyspersji opisujące rozproszenie wyników."
      ]
    },
    {
      "cell_type": "markdown",
      "metadata": {
        "id": "_Gn3YnwTTmUE"
      },
      "source": [
        ""
      ]
    },
    {
      "cell_type": "markdown",
      "metadata": {
        "id": "2HnlUPnETm1l"
      },
      "source": [
        ""
      ]
    },
    {
      "cell_type": "markdown",
      "metadata": {
        "id": "AaC7n6k-TnLk"
      },
      "source": [
        "### Miary tendencji centralnej\r\n",
        "- **Dominanta**\r\n",
        "\r\n",
        "\r\n",
        "- **Mediana**\r\n",
        "\r\n",
        "\r\n",
        "- **Średnia**\r\n",
        "\r\n",
        "- **Średnia ważona** (chcemy policzyć średnią dla (n)klas /średnia szkoły/ nie znając ocen poszczególnych uczniów. Wystarczy, że znamy średnie dla klas i liczebność tych klas)\r\n",
        "\r\n",
        "- śr_w = śr_gr1 x n1 + śr_gr2 X n2 / n1 + n2"
      ]
    },
    {
      "cell_type": "markdown",
      "metadata": {
        "id": "a819ctsoTsfE"
      },
      "source": [
        "### Miary rozproszenia\r\n",
        "\r\n",
        "- **Rozstęp**- r = w_max - w_min\r\n",
        "\r\n",
        "- **Wariancja** - Wariancja liczb x1,x2,...,xn to średnia arytmetyczna kwadratów odchyleń od ich średniej arytmetycznej.\r\n",
        "\r\n",
        "- sigma = ((x1 - śr_z_szeregu)sqr + (x2 - śr_z_szeregu)sqr +... + (xn - śr_z_szeregu)sqr) / n\r\n",
        "\r\n",
        "\r\n",
        "- **Odchylenie standardowe** - pierwiastek z wariancji\r\n",
        "\r\n",
        "- **Kurtoza**"
      ]
    },
    {
      "cell_type": "code",
      "metadata": {
        "id": "DWPl33-hT1u0"
      },
      "source": [
        "wynik_egz  = 2,3,4,5,6,7,6,5,4,5,6,7,8,5"
      ],
      "execution_count": 3,
      "outputs": []
    },
    {
      "cell_type": "code",
      "metadata": {
        "id": "9FErW5_lT9En"
      },
      "source": [
        "import statistics as st"
      ],
      "execution_count": 4,
      "outputs": []
    },
    {
      "cell_type": "code",
      "metadata": {
        "colab": {
          "base_uri": "https://localhost:8080/"
        },
        "id": "EqBghRnyT80f",
        "outputId": "11c08259-331f-4b91-dbab-1ee4f906cc82"
      },
      "source": [
        "średnia = st.mean(wynik_egz)\r\n",
        "print(średnia)"
      ],
      "execution_count": 5,
      "outputs": [
        {
          "output_type": "execute_result",
          "data": {
            "text/plain": [
              "5.214285714285714"
            ]
          },
          "metadata": {
            "tags": []
          },
          "execution_count": 5
        }
      ]
    },
    {
      "cell_type": "code",
      "metadata": {
        "id": "0p2n3wDLmObn",
        "colab": {
          "base_uri": "https://localhost:8080/"
        },
        "outputId": "57d76363-9428-4664-aed3-7524d592d940"
      },
      "source": [
        "# mediana\r\n",
        "mediana = st.median(wynik_egz)\r\n",
        "print(mediana)"
      ],
      "execution_count": 7,
      "outputs": [
        {
          "output_type": "stream",
          "text": [
            "5.0\n"
          ],
          "name": "stdout"
        }
      ]
    },
    {
      "cell_type": "code",
      "metadata": {
        "id": "s1bECDh_m-S2",
        "colab": {
          "base_uri": "https://localhost:8080/"
        },
        "outputId": "a7475a32-2753-47c3-ae74-7a2918a36d6f"
      },
      "source": [
        "# wariancja\r\n",
        "wariancja = st.variance(wynik_egz);\r\n",
        "print(wariancja)"
      ],
      "execution_count": 31,
      "outputs": [
        {
          "output_type": "stream",
          "text": [
            "2.642857142857143\n"
          ],
          "name": "stdout"
        }
      ]
    },
    {
      "cell_type": "code",
      "metadata": {
        "id": "Q28Xiu7Gm-rM",
        "colab": {
          "base_uri": "https://localhost:8080/"
        },
        "outputId": "7cf85ce6-624e-45d1-aa3d-0cfe0638be78"
      },
      "source": [
        "# odchylenie standardowe\r\n",
        "od_stand=st.stdev(wynik_egz)\r\n",
        "print(od_stand)"
      ],
      "execution_count": 33,
      "outputs": [
        {
          "output_type": "stream",
          "text": [
            "1.625686668105863\n"
          ],
          "name": "stdout"
        }
      ]
    },
    {
      "cell_type": "code",
      "metadata": {
        "colab": {
          "base_uri": "https://localhost:8080/"
        },
        "id": "JC6HD_9bnERc",
        "outputId": "797dd924-1023-43f6-87fc-8dc96dd51ea4"
      },
      "source": [
        "#dominanta\r\n",
        "moda = st.mode(wynik_egz)\r\n",
        "print(moda)"
      ],
      "execution_count": null,
      "outputs": [
        {
          "output_type": "stream",
          "text": [
            "5\n"
          ],
          "name": "stdout"
        }
      ]
    },
    {
      "cell_type": "code",
      "metadata": {
        "colab": {
          "base_uri": "https://localhost:8080/"
        },
        "id": "x9fuNX-Do59w",
        "outputId": "64289564-2c02-45d5-d457-d0bb59b39825"
      },
      "source": [
        "#rozstęp\r\n",
        "rozstep = max(wynik_egz) - min(wynik_egz)\r\n",
        "print(rozstep)"
      ],
      "execution_count": 34,
      "outputs": [
        {
          "output_type": "stream",
          "text": [
            "6\n"
          ],
          "name": "stdout"
        }
      ]
    },
    {
      "cell_type": "code",
      "metadata": {
        "colab": {
          "base_uri": "https://localhost:8080/"
        },
        "id": "F8tzQP-qpGTL",
        "outputId": "45a68a30-8380-4a1a-9074-3480a6155f28"
      },
      "source": [
        "#kurtoza\r\n",
        "kurtoza = kurtosis(wynik_egz)\r\n",
        "print(kurtoza)"
      ],
      "execution_count": 41,
      "outputs": [
        {
          "output_type": "stream",
          "text": [
            "-0.4282225612786936\n"
          ],
          "name": "stdout"
        }
      ]
    },
    {
      "cell_type": "markdown",
      "metadata": {
        "id": "7XM2tGp8mSds"
      },
      "source": [
        "# Praca domowa\r\n",
        "\r\n",
        "Wyniku z egzaminu (2,3,4,3,4,5)\r\n",
        "Wagi (2,5,7,4,5,3)\r\n",
        "\r\n",
        "\r\n",
        "Proszę o zaproponowanie kodu, który wyliczy średnią ważoną dla zaproponowanych zmiennych\r\n"
      ]
    },
    {
      "cell_type": "markdown",
      "metadata": {
        "id": "3AOUd2CImsoP"
      },
      "source": [
        ""
      ]
    },
    {
      "cell_type": "code",
      "metadata": {
        "id": "CmjEiru2mOOB",
        "colab": {
          "base_uri": "https://localhost:8080/"
        },
        "outputId": "9909dc91-a3d8-4142-cda3-8edbfdc25400"
      },
      "source": [
        "wyn_egz = 2,3,4,3,4,5;\r\n",
        "weight = 2,5,7,4,5,3;\r\n",
        "sr_w=0;\r\n",
        "i=0;\r\n",
        "pom=0;\r\n",
        "while i<len(wyn_egz):\r\n",
        "  sr_w+= wyn_egz[i]*weight[i]\r\n",
        "  pom+=weight[i]\r\n",
        "  i+=1;\r\n",
        "sr_w= sr_w/ pom\r\n",
        "print(sr_w)"
      ],
      "execution_count": 28,
      "outputs": [
        {
          "output_type": "stream",
          "text": [
            "3.7142857142857144\n"
          ],
          "name": "stdout"
        }
      ]
    }
  ]
}